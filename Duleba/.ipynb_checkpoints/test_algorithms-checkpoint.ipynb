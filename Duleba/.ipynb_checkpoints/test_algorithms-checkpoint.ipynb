{
 "cells": [
  {
   "cell_type": "code",
   "execution_count": 1,
   "metadata": {},
   "outputs": [],
   "source": [
    "import numpy as np\n",
    "import matplotlib as plt\n",
    "from scipy.optimize import root\n",
    "from planning_algorithms import *\n",
    "from util import *"
   ]
  },
  {
   "cell_type": "code",
   "execution_count": 2,
   "metadata": {},
   "outputs": [
    {
     "data": {
      "text/plain": [
       "[<matplotlib.lines.Line2D at 0x7f2462576b50>]"
      ]
     },
     "execution_count": 2,
     "metadata": {},
     "output_type": "execute_result"
    }
   ],
   "source": [
    "# define path to follow\n",
    "Np = 8\n",
    "xp = np.vstack((np.linspace(-1.5, 1.5, Np), np.ones(Np) * 1.0)).T\n",
    "\n",
    "# calulate inital configuration\n",
    "q0_guess = np.array([np.pi / 2, np.pi / 4])\n",
    "x0 = xp[0, :]\n",
    "res = newton(x0, q0_guess)\n",
    "q0 = res['q']\n",
    "\n",
    "# ik for last point, needed for taylors algorithm\n",
    "sol = root(lambda q : xp[-1, :] - fk(q), q0)\n",
    "qN = sol['x']\n",
    "\n",
    "# plot initial configuration\n",
    "plt.figure()\n",
    "plt.axis([-2, 2, -0.5, 2])\n",
    "plt.plot(xp[:, 0], xp[:, 1], 'go')\n",
    "x2, x1 = fk(q0, all_links = True)\n",
    "plt.plot([0, x1[0], x2[0]], [0, x1[1], x2[1]], 'ko-')\n",
    "x2, x1 = fk(qN, all_links = True)\n",
    "plt.plot([0, x1[0], x2[0]], [0, x1[1], x2[1]], 'ko-')\n",
    "#plt.show()"
   ]
  },
  {
   "cell_type": "markdown",
   "metadata": {},
   "source": [
    "## Inverse kinematics for every path point"
   ]
  },
  {
   "cell_type": "code",
   "execution_count": 3,
   "metadata": {},
   "outputs": [],
   "source": [
    "qp1 = exact_ik(xp, q0)\n",
    "#print qp1"
   ]
  },
  {
   "cell_type": "code",
   "execution_count": 4,
   "metadata": {
    "scrolled": true
   },
   "outputs": [
    {
     "data": {
      "text/plain": [
       "[<matplotlib.lines.Line2D at 0x7fc0c6510e90>]"
      ]
     },
     "execution_count": 4,
     "metadata": {},
     "output_type": "execute_result"
    }
   ],
   "source": [
    "# plot planned motion\n",
    "plt.figure()\n",
    "plt.axis([-2, 2, 0.0, 1.5])\n",
    "\n",
    "# plot solution configurations\n",
    "for i in range(Np):\n",
    "    x2, x1 = fk(qp1[i], all_links = True)\n",
    "    plt.plot([0, x1[0], x2[0]], [0, x1[1], x2[1]], 'ko-')\n",
    "\n",
    "# given path\n",
    "plt.plot(xp[:, 0], xp[:, 1], 'go')\n",
    "#plt.show()"
   ]
  },
  {
   "cell_type": "markdown",
   "metadata": {},
   "source": [
    "## Linear interpolation in join space (Taylor's algorithm)"
   ]
  },
  {
   "cell_type": "code",
   "execution_count": 5,
   "metadata": {},
   "outputs": [],
   "source": [
    "# In this case we don't use the path, only the first and the last point\n",
    "# We do need the ik solution for the last point (qN)\n",
    "d = 0.1 # acceptable deviation from path\n",
    "qp2, xp2 = taylor_interpolation(xp[0], xp[-1], q0, qN, d)\n",
    "#print qp2"
   ]
  },
  {
   "cell_type": "code",
   "execution_count": 6,
   "metadata": {},
   "outputs": [
    {
     "data": {
      "text/plain": [
       "[<matplotlib.lines.Line2D at 0x7fc0c6387150>]"
      ]
     },
     "execution_count": 6,
     "metadata": {},
     "output_type": "execute_result"
    }
   ],
   "source": [
    "# plot planned motion\n",
    "plt.figure()\n",
    "plt.axis([-2, 2, 0.0, 1.5])\n",
    "\n",
    "# plot solution configurations\n",
    "for i in range(len(qp2)):\n",
    "    x2, x1 = fk(qp2[i], all_links = True)\n",
    "    plt.plot([0, x1[0], x2[0]], [0, x1[1], x2[1]], 'ko-')\n",
    "\n",
    "# given path\n",
    "plt.plot(xp[:, 0], xp[:, 1], 'g--')\n",
    "\n",
    "# allowed deviation\n",
    "plt.plot(xp[:, 0], xp[:, 1] - d, 'r-.')\n",
    "plt.plot(xp[:, 0], xp[:, 1] + d, 'r-.')\n",
    "#plt.show()"
   ]
  },
  {
   "cell_type": "markdown",
   "metadata": {},
   "source": [
    "## Local optimization of joint movement"
   ]
  },
  {
   "cell_type": "code",
   "execution_count": 3,
   "metadata": {},
   "outputs": [],
   "source": [
    "d = 0.1\n",
    "qp3, xp3 = local_optimization(xp, q0, d)"
   ]
  },
  {
   "cell_type": "code",
   "execution_count": 4,
   "metadata": {},
   "outputs": [
    {
     "data": {
      "text/plain": [
       "[<matplotlib.lines.Line2D at 0x7f2462457650>]"
      ]
     },
     "execution_count": 4,
     "metadata": {},
     "output_type": "execute_result"
    }
   ],
   "source": [
    "# plot planned motion\n",
    "plt.figure()\n",
    "plt.axis([-2, 2, 0.0, 1.5])\n",
    "\n",
    "# plot solution configurations\n",
    "for i in range(len(qp3)):\n",
    "    x2, x1 = fk(qp3[i], all_links = True)\n",
    "    plt.plot([0, x1[0], x2[0]], [0, x1[1], x2[1]], 'ko-')\n",
    "\n",
    "# given path\n",
    "plt.plot(xp[:, 0], xp[:, 1], 'g--')\n",
    "\n",
    "# allowed deviation\n",
    "plt.plot(xp[:, 0], xp[:, 1] - d, 'r-.')\n",
    "plt.plot(xp[:, 0], xp[:, 1] + d, 'r-.')\n",
    "plt.show()"
   ]
  },
  {
   "cell_type": "code",
   "execution_count": null,
   "metadata": {
    "collapsed": true
   },
   "outputs": [],
   "source": []
  }
 ],
 "metadata": {
  "kernelspec": {
   "display_name": "Python 2",
   "language": "python",
   "name": "python2"
  },
  "language_info": {
   "codemirror_mode": {
    "name": "ipython",
    "version": 2
   },
   "file_extension": ".py",
   "mimetype": "text/x-python",
   "name": "python",
   "nbconvert_exporter": "python",
   "pygments_lexer": "ipython2",
   "version": "2.7.13"
  }
 },
 "nbformat": 4,
 "nbformat_minor": 2
}
