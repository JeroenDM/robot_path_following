{
 "cells": [
  {
   "cell_type": "code",
   "execution_count": 12,
   "metadata": {
    "collapsed": true
   },
   "outputs": [],
   "source": [
    "import numpy as np\n",
    "import matplotlib.pyplot as plt\n",
    "from scipy.optimize import root\n",
    "from util import *"
   ]
  },
  {
   "cell_type": "markdown",
   "metadata": {},
   "source": [
    "## Define task space path"
   ]
  },
  {
   "cell_type": "code",
   "execution_count": 13,
   "metadata": {
    "collapsed": true
   },
   "outputs": [],
   "source": [
    "# define path to follow\n",
    "Np = 8\n",
    "t_end = 3\n",
    "xp = np.vstack((np.linspace(-1.5, 1.5, Np),\n",
    "                np.ones(Np) * 1.0\n",
    "              )).T\n",
    "t = np.linspace(0, t_end, Np)"
   ]
  },
  {
   "cell_type": "markdown",
   "metadata": {},
   "source": [
    "# Calculate initial and final robot configuration\n",
    "By changing the guess value you can try to achieve arm up or arm down configuration"
   ]
  },
  {
   "cell_type": "code",
   "execution_count": 14,
   "metadata": {
    "collapsed": true
   },
   "outputs": [],
   "source": [
    "# calulate inital configuration\n",
    "q_guess = np.array([np.pi / 2, np.pi / 4])\n",
    "\n",
    "sol = root(lambda q : xp[0, :] - fk(q), q_guess)\n",
    "# print sol\n",
    "q0 = sol['x']\n",
    "\n",
    "sol = root(lambda q : xp[-1, :] - fk(q), q0)\n",
    "# print sol\n",
    "qN = sol['x']"
   ]
  },
  {
   "cell_type": "markdown",
   "metadata": {},
   "source": [
    "# Plot initial and final configuration and path"
   ]
  },
  {
   "cell_type": "code",
   "execution_count": 15,
   "metadata": {},
   "outputs": [
    {
     "data": {
      "image/png": "[encoded data removed]",
      "text/plain": [
       "<matplotlib.figure.Figure at 0x7f19bf17f490>"
      ]
     },
     "metadata": {},
     "output_type": "display_data"
    }
   ],
   "source": [
    "plt.figure()\n",
    "plt.axis([-2, 2, -0.5, 2])\n",
    "plt.plot(xp[:, 0], xp[:, 1], 'go')\n",
    "\n",
    "x2, x1 = fk(q0, all_links = True)\n",
    "plt.plot([0, x1[0], x2[0]], [0, x1[1], x2[1]], 'ko-')\n",
    "\n",
    "x2, x1 = fk(qN, all_links = True)\n",
    "plt.plot([0, x1[0], x2[0]], [0, x1[1], x2[1]], 'ko-')\n",
    "\n",
    "plt.show()"
   ]
  },
  {
   "cell_type": "markdown",
   "metadata": {},
   "source": [
    "# Taylor's algorithm\n",
    "\n",
    "The algoritm plans a trajectory to move between two points in a straight line.\n",
    "The line does not have to be perfect, the end effector can deviate with a distance delta.\n",
    "\n",
    "## Some small help functions"
   ]
  },
  {
   "cell_type": "code",
   "execution_count": 101,
   "metadata": {
    "collapsed": true
   },
   "outputs": [],
   "source": [
    "def dist(p1, p2, a):\n",
    "    d = norm(p1 - p2)\n",
    "    if d <= 1e-6:\n",
    "        raise ValueError(\"Line must be given by two different points\")\n",
    "    A = abs( (p2[1] - p1[1]) * a[0] - (p2[0] - p1[0]) * a[1] + p2[0] * p1[1] - p2[1] * p1[0] )\n",
    "    return A / d\n",
    "\n",
    "def mid_point(qv, xv, i):\n",
    "    q_mid = (qv[i] + qv[i+1]) / 2\n",
    "    x_mid = fk(q_mid)\n",
    "    e = dist(xv[i], xv[i+1], x_mid)\n",
    "    return q_mid, x_mid, e\n",
    "\n",
    "# add point in joint and path points array\n",
    "# WARNING: xsol and qsol are modified by the function\n",
    "def add_point(xsol, qsol, xin, qin, ind):\n",
    "    xsol.insert(ind, xin)\n",
    "    qsol.insert(ind, qin)\n",
    "    \n",
    "def refine_grid(xsol, qsol):\n",
    "    x_new = (xsol[i] + xsol[i+1]) / 2\n",
    "    sol = root(lambda q : x_new - fk(q), qsol[i])\n",
    "    q_new = sol['x']\n",
    "    \n",
    "    return x_new, q_new\n",
    "    "
   ]
  },
  {
   "cell_type": "markdown",
   "metadata": {},
   "source": [
    "## The algorithm"
   ]
  },
  {
   "cell_type": "code",
   "execution_count": 110,
   "metadata": {},
   "outputs": [],
   "source": [
    "delta = 0.1 # acceptable deviation from path\n",
    "i = 0 # current point looked at (i to i+1)\n",
    "N = 2 # total number of points in solution\n",
    "\n",
    "# initial solution\n",
    "xsol = [xp[0], xp[-1]]\n",
    "qsol = [q0, qN]\n",
    "\n",
    "while(i < (N - 1)):\n",
    "    \n",
    "    # interpolate in joint space\n",
    "    q_mid, x_mid, e = mid_point(qsol, xsol, i)\n",
    "    \n",
    "    # check error in task space\n",
    "    if e <= delta:\n",
    "        # add point to solution\n",
    "        add_point(xsol, qsol, x_mid, q_mid, i+1)\n",
    "        N += 1\n",
    "        i += 2\n",
    "    else:\n",
    "        # refine grid with ik solver\n",
    "        x_ref, q_ref = refine_grid(xsol, qsol)\n",
    "        add_point(xsol, qsol, x_ref, q_ref, i+1)\n",
    "        N +=1\n"
   ]
  },
  {
   "cell_type": "code",
   "execution_count": 111,
   "metadata": {},
   "outputs": [
    {
     "data": {
      "image/png": "[encoded data removed]",
      "text/plain": [
       "<matplotlib.figure.Figure at 0x7f19bea870d0>"
      ]
     },
     "metadata": {},
     "output_type": "display_data"
    }
   ],
   "source": [
    "plt.figure()\n",
    "plt.axis([-2, 2, -0.5, 2])\n",
    "#plt.plot(xp[:, 0], xp[:, 1], 'go')\n",
    "for j in range(len(qsol)):\n",
    "    x2, x1 = fk(qsol[j], all_links = True)\n",
    "    plt.plot([0, x1[0], x2[0]], [0, x1[1], x2[1]], 'ko-')\n",
    "    plt.plot(xsol[j][0], xsol[j][1], 'rx')\n",
    "plt.show()"
   ]
  },
  {
   "cell_type": "code",
   "execution_count": null,
   "metadata": {
    "collapsed": true
   },
   "outputs": [],
   "source": []
  }
 ],
 "metadata": {
  "kernelspec": {
   "display_name": "Python 2",
   "language": "python",
   "name": "python2"
  },
  "language_info": {
   "codemirror_mode": {
    "name": "ipython",
    "version": 2
   },
   "file_extension": ".py",
   "mimetype": "text/x-python",
   "name": "python",
   "nbconvert_exporter": "python",
   "pygments_lexer": "ipython2",
   "version": "2.7.13"
  }
 },
 "nbformat": 4,
 "nbformat_minor": 2
}
