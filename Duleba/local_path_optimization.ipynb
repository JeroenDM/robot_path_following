{
 "cells": [
  {
   "cell_type": "code",
   "execution_count": 42,
   "metadata": {
    "collapsed": true
   },
   "outputs": [],
   "source": [
    "import numpy as np\n",
    "import matplotlib.pyplot as plt\n",
    "from scipy.optimize import root\n",
    "from numpy.linalg import pinv, norm\n",
    "from util import *\n",
    "\n",
    "# Note: for this scale the problem a global optimal could easily be found\n",
    "# Note: should test for real redundant manipulator like a planar 3R"
   ]
  },
  {
   "cell_type": "code",
   "execution_count": 43,
   "metadata": {
    "collapsed": true
   },
   "outputs": [],
   "source": [
    "# define path to follow\n",
    "Np = 8\n",
    "t_end = 3\n",
    "xp = np.vstack((np.linspace(-1.5, 1.5, Np),\n",
    "                np.ones(Np) * 1.0\n",
    "              )).T\n",
    "t = np.linspace(0, t_end, Np)\n",
    "\n",
    "# calulate inital configuration\n",
    "q_guess = np.array([np.pi / 2, np.pi / 4])\n",
    "\n",
    "sol = root(lambda q : xp[0, :] - fk(q), q_guess)\n",
    "# print sol\n",
    "q0 = sol['x']"
   ]
  },
  {
   "cell_type": "code",
   "execution_count": 44,
   "metadata": {},
   "outputs": [
    {
     "data": {
      "image/png": "[encoded data removed]",
      "text/plain": [
       "<matplotlib.figure.Figure at 0x7ff1287d99d0>"
      ]
     },
     "metadata": {},
     "output_type": "display_data"
    }
   ],
   "source": [
    "plt.figure()\n",
    "plt.axis([-2, 2, -0.5, 2])\n",
    "plt.plot(xp[:, 0], xp[:, 1], 'go')\n",
    "\n",
    "x2, x1 = fk(q0, all_links = True)\n",
    "plt.plot([0, x1[0], x2[0]], [0, x1[1], x2[1]], 'ko-')\n",
    "\n",
    "plt.show()"
   ]
  },
  {
   "cell_type": "code",
   "execution_count": 61,
   "metadata": {
    "collapsed": true
   },
   "outputs": [],
   "source": [
    "delta = 0.1 # maximum path deviation\n",
    "Nd = 10     # ball discretization\n",
    "# extend path with discretized ball with radius delta (1D in this case) around each path point\n",
    "xp_ext = []\n",
    "for i in range(Np):\n",
    "    x_ext = np.linspace(xp[i][0], xp[i][0], Nd)\n",
    "    y_ext = np.linspace(xp[i][1] - delta, xp[i][1] + delta, Nd)\n",
    "    xp_ext.append(np.vstack((x_ext, y_ext)))\n",
    "    \n"
   ]
  },
  {
   "cell_type": "code",
   "execution_count": 62,
   "metadata": {},
   "outputs": [
    {
     "data": {
      "image/png": "[encoded data removed]",
      "text/plain": [
       "<matplotlib.figure.Figure at 0x7ff128b151d0>"
      ]
     },
     "metadata": {},
     "output_type": "display_data"
    }
   ],
   "source": [
    "plt.figure()\n",
    "plt.axis([-2, 2, 0.5, 1.5])\n",
    "plt.plot(xp[:, 0], xp[:, 1], 'go')\n",
    "\n",
    "x2, x1 = fk(q0, all_links = True)\n",
    "plt.plot([0, x1[0], x2[0]], [0, x1[1], x2[1]], 'ko-')\n",
    "\n",
    "plt.plot(xp_ext[1][0, :], xp_ext[1][1, :], 'go')\n",
    "\n",
    "plt.show()"
   ]
  },
  {
   "cell_type": "code",
   "execution_count": 63,
   "metadata": {
    "collapsed": true
   },
   "outputs": [],
   "source": [
    "def find_close_point(xi, qi, xpe):\n",
    "    \"\"\" Close in joint space \"\"\"\n",
    "    dmin = np.inf\n",
    "    xmin = 0\n",
    "    Jk = J(qi)\n",
    "    Jk_inv = pinv(Jk)\n",
    "    for j in range(Nd):\n",
    "        xj = xpe[:, j]\n",
    "        dj = norm(Jk_inv.dot(xj - xi))\n",
    "\n",
    "        if dj < dmin:\n",
    "            dmin = dj\n",
    "            xmin = xj\n",
    "        \n",
    "    return xmin, dmin\n",
    "    "
   ]
  },
  {
   "cell_type": "code",
   "execution_count": 64,
   "metadata": {},
   "outputs": [
    {
     "name": "stdout",
     "output_type": "stream",
     "text": [
      "0.519667871252\n",
      "[-1.07142857  1.1       ]\n",
      "0.510263047548\n",
      "[-0.64285714  1.1       ]\n",
      "0.741545150314\n",
      "[-0.21428571  1.1       ]\n",
      "2.32025962969\n",
      "[ 0.21428571  1.1       ]\n",
      "0.342568685612\n",
      "[ 0.64285714  1.1       ]\n",
      "0.2966309568\n",
      "[ 1.07142857  0.94444444]\n",
      "0.388566428442\n",
      "[ 1.5  0.9]\n"
     ]
    }
   ],
   "source": [
    "# distance in joint space to the different point?\n",
    "qsol = [q0]\n",
    "xsol = [xp[0]]\n",
    "#i = 0\n",
    "\n",
    "for i in range(Np-1):\n",
    "    xmin, dmin = find_close_point(xp[i], qsol[i], xp_ext[i+1])\n",
    "    print dmin\n",
    "    print xmin\n",
    "    \n",
    "    # find corresponding joint solution\n",
    "    sol = root(lambda q : xmin - fk(q), qsol[i])\n",
    "    qmin = sol['x']\n",
    "    \n",
    "    xsol.append(xmin)\n",
    "    qsol.append(qmin)"
   ]
  },
  {
   "cell_type": "code",
   "execution_count": 65,
   "metadata": {},
   "outputs": [
    {
     "data": {
      "image/png": "[encoded data removed]",
      "text/plain": [
       "<matplotlib.figure.Figure at 0x7ff128911750>"
      ]
     },
     "metadata": {},
     "output_type": "display_data"
    }
   ],
   "source": [
    "plt.figure()\n",
    "plt.axis([-2, 2, -0.5, 2])\n",
    "plt.plot(xp[:, 0], xp[:, 1], 'go')\n",
    "for j in range(len(qsol)):\n",
    "    x2, x1 = fk(qsol[j], all_links = True)\n",
    "    plt.plot([0, x1[0], x2[0]], [0, x1[1], x2[1]], 'ko-')\n",
    "    plt.plot(xsol[j][0], xsol[j][1], 'rx')\n",
    "plt.show()"
   ]
  },
  {
   "cell_type": "code",
   "execution_count": null,
   "metadata": {
    "collapsed": true
   },
   "outputs": [],
   "source": []
  }
 ],
 "metadata": {
  "kernelspec": {
   "display_name": "Python 2",
   "language": "python",
   "name": "python2"
  },
  "language_info": {
   "codemirror_mode": {
    "name": "ipython",
    "version": 2
   },
   "file_extension": ".py",
   "mimetype": "text/x-python",
   "name": "python",
   "nbconvert_exporter": "python",
   "pygments_lexer": "ipython2",
   "version": "2.7.13"
  }
 },
 "nbformat": 4,
 "nbformat_minor": 2
}
