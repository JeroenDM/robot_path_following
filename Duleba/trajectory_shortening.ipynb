{
 "cells": [
  {
   "cell_type": "code",
   "execution_count": 1,
   "metadata": {
    "collapsed": true
   },
   "outputs": [],
   "source": [
    "import numpy as np\n",
    "import matplotlib.pyplot as plt\n",
    "from util import *\n",
    "from numpy.linalg import norm\n",
    "\n",
    "# Note: for this simple robot, linear interpolation between (i-1) and (i+1)\n",
    "#       is a good alternative for the mass center interpolation."
   ]
  },
  {
   "cell_type": "markdown",
   "metadata": {},
   "source": [
    "# Get initial path from ik solution"
   ]
  },
  {
   "cell_type": "code",
   "execution_count": 2,
   "metadata": {
    "collapsed": true
   },
   "outputs": [],
   "source": [
    "# define path to follow\n",
    "Np = 8\n",
    "xp = np.vstack((np.linspace(-1.5, 1.5, Np),\n",
    "                np.ones(Np) * 1.0\n",
    "              )).T"
   ]
  },
  {
   "cell_type": "code",
   "execution_count": 3,
   "metadata": {
    "collapsed": true
   },
   "outputs": [],
   "source": [
    "qp = np.array([[ 2.10575748,  0.895666  ],\n",
    " [ 1.64228905,  1.49674909],\n",
    " [ 1.20786201,  1.8685436 ],\n",
    " [ 0.74784918,  2.06808096],\n",
    " [ 0.32566251,  2.06808096],\n",
    " [ 0.06518705,  1.8685436 ],\n",
    " [ 0.00255452,  1.49674909],\n",
    " [ 0.14017021,  0.89566479]])\n"
   ]
  },
  {
   "cell_type": "code",
   "execution_count": 4,
   "metadata": {},
   "outputs": [
    {
     "data": {
      "image/png": "[encoded data removed]",
      "text/plain": [
       "<matplotlib.figure.Figure at 0x7f39531e0f10>"
      ]
     },
     "metadata": {},
     "output_type": "display_data"
    }
   ],
   "source": [
    "plt.figure()\n",
    "plt.axis([-2, 2, -0.5, 2])\n",
    "for j in range(len(qp)):\n",
    "    x2, x1 = fk(qp[j], all_links = True)\n",
    "    plt.plot([0, x1[0], x2[0]], [0, x1[1], x2[1]], 'ko-')\n",
    "plt.plot(xp[:, 0], xp[:, 1], 'go')\n",
    "plt.show()"
   ]
  },
  {
   "cell_type": "markdown",
   "metadata": {},
   "source": [
    "# Trajectory shortening"
   ]
  },
  {
   "cell_type": "code",
   "execution_count": 42,
   "metadata": {
    "collapsed": true
   },
   "outputs": [],
   "source": [
    "def angle(a, b, na, nb):\n",
    "    \"\"\" At this point it is checked that the norm is not close to zeros\"\"\"\n",
    "    cos_angle = np.dot(a, b) / (na * nb)\n",
    "    sin_angle = np.cross(a, b) / (na * nb)\n",
    "    \n",
    "    return np.arctan2(sin_angle, cos_angle)\n",
    "\n",
    "def mass_center(q1, q2, q3, w):\n",
    "    return (q1 + w * q2 + q3) / (2.0 + w)\n",
    "\n",
    "def dist(p1, p2, a):\n",
    "    d = norm(p1 - p2)\n",
    "    if d <= 1e-6:\n",
    "        raise ValueError(\"Line must be given by two different points\")\n",
    "    A = abs( (p2[1] - p1[1]) * a[0] - (p2[0] - p1[0]) * a[1] + p2[0] * p1[1] - p2[1] * p1[0] )\n",
    "    return A / d\n",
    "\n",
    "def find_new_point(q, i, w_init = 1.0):\n",
    "    succes = False\n",
    "    wv = np.linspace(w_init, 4.0, 10)\n",
    "    for w in wv:\n",
    "        qmc = mass_center(q[i-1], q[i], q[i+1], w)\n",
    "        \n",
    "        # check if this solution is acceptable\n",
    "        xmc = fk(qmc)\n",
    "        d = dist(xp[i], xp[i+1], xmc)\n",
    "        if d < delta:\n",
    "            succes = True\n",
    "            return succes, qmc, xmc\n",
    "    return succes, 0, 0\n",
    "        \n",
    "    "
   ]
  },
  {
   "cell_type": "code",
   "execution_count": 47,
   "metadata": {},
   "outputs": [
    {
     "name": "stdout",
     "output_type": "stream",
     "text": [
      "Note: check if is angle_max or angle_min\n",
      "1\n",
      "angle 0.20608792631\n",
      "Point changed\n",
      "2\n",
      "angle 0.298596381784\n",
      "Point changed\n",
      "3\n",
      "angle 0.409271002987\n",
      "Point changed\n",
      "4\n",
      "angle 0.653694549143\n",
      "Point changed\n",
      "5\n",
      "angle 0.750208674208\n",
      "Point changed\n",
      "6\n",
      "angle 0.391959969667\n",
      "Point changed\n"
     ]
    }
   ],
   "source": [
    "delta = 0.9\n",
    "zeta = 0.001\n",
    "angle_max = 0.9\n",
    "\n",
    "qsol = [qp[0]]\n",
    "xsol = [xp[0]]\n",
    "\n",
    "print \"Note: check if is angle_max or angle_min\"\n",
    "\n",
    "\n",
    "for i in range(1, Np-1):\n",
    "    print i\n",
    "    q_new = qp[i]\n",
    "    x_new = xp[i]\n",
    "    v1 = qp[i-1] - qp[i]\n",
    "    v2 = qp[i]   - qp[i+1]\n",
    "    nv1 = norm(v1)\n",
    "    nv2 = norm(v2)\n",
    "    if (nv1 > zeta) and (nv2 > zeta):\n",
    "        angle12 = angle(v1, v2, nv1, nv2)\n",
    "        if angle12 < angle_max:\n",
    "            print \"angle \" + str(angle12)\n",
    "            suc, qmc, xmc = find_new_point(qp, i, 0.1)\n",
    "            \n",
    "            if suc:\n",
    "                print \"Point changed\"\n",
    "                q_new = qmc\n",
    "                x_new = xmc\n",
    "                \n",
    "    qsol.append(q_new)\n",
    "    xsol.append(x_new)\n",
    "    \n",
    "qsol.append(qp[-1])\n",
    "xsol.append(xp[-1])"
   ]
  },
  {
   "cell_type": "code",
   "execution_count": 48,
   "metadata": {},
   "outputs": [
    {
     "data": {
      "image/png": "[encoded data removed]",
      "text/plain": [
       "<matplotlib.figure.Figure at 0x7f3950bb7390>"
      ]
     },
     "metadata": {},
     "output_type": "display_data"
    }
   ],
   "source": [
    "plt.figure()\n",
    "plt.axis([-2, 2, -0.5, 2])\n",
    "for j in range(len(qsol)):\n",
    "    x2, x1 = fk(qsol[j], all_links = True)\n",
    "    plt.plot([0, x1[0], x2[0]], [0, x1[1], x2[1]], 'ko-')\n",
    "    plt.plot(xsol[j][0], xsol[j][1], 'rx')\n",
    "plt.plot(xp[:, 0], xp[:, 1], 'g--')\n",
    "plt.show()"
   ]
  },
  {
   "cell_type": "code",
   "execution_count": 49,
   "metadata": {},
   "outputs": [
    {
     "name": "stdout",
     "output_type": "stream",
     "text": [
      "[[ 0.          0.        ]\n",
      " [-0.01382923  0.10918504]\n",
      " [ 0.01218371  0.08202721]\n",
      " [-0.01801246  0.09501779]\n",
      " [-0.07700534  0.09501779]\n",
      " [-0.09421092  0.08202721]\n",
      " [-0.0953563   0.10918561]\n",
      " [ 0.          0.        ]]\n"
     ]
    }
   ],
   "source": [
    "print qp - np.array(qsol)"
   ]
  },
  {
   "cell_type": "code",
   "execution_count": 50,
   "metadata": {},
   "outputs": [
    {
     "data": {
      "text/plain": [
       "True"
      ]
     },
     "execution_count": 50,
     "metadata": {},
     "output_type": "execute_result"
    }
   ],
   "source": [
    "0 != 1\n",
    "\n"
   ]
  },
  {
   "cell_type": "code",
   "execution_count": null,
   "metadata": {
    "collapsed": true
   },
   "outputs": [],
   "source": []
  }
 ],
 "metadata": {
  "kernelspec": {
   "display_name": "Python 2",
   "language": "python",
   "name": "python2"
  },
  "language_info": {
   "codemirror_mode": {
    "name": "ipython",
    "version": 2
   },
   "file_extension": ".py",
   "mimetype": "text/x-python",
   "name": "python",
   "nbconvert_exporter": "python",
   "pygments_lexer": "ipython2",
   "version": "2.7.13"
  }
 },
 "nbformat": 4,
 "nbformat_minor": 2
}
