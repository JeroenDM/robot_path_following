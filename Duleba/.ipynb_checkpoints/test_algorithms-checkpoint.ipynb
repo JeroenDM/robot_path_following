{
 "cells": [
  {
   "cell_type": "code",
   "execution_count": 1,
   "metadata": {
    "collapsed": true
   },
   "outputs": [],
   "source": [
    "import numpy as np\n",
    "import matplotlib as plt\n",
    "from scipy.optimize import root\n",
    "from planning_algorithms import *\n",
    "from util import *"
   ]
  },
  {
   "cell_type": "code",
   "execution_count": 2,
   "metadata": {},
   "outputs": [
    {
     "ename": "NameError",
     "evalue": "name 'Np' is not defined",
     "output_type": "error",
     "traceback": [
      "\u001b[0;31m\u001b[0m",
      "\u001b[0;31mNameError\u001b[0mTraceback (most recent call last)",
      "\u001b[0;32m<ipython-input-2-a9d136222bf0>\u001b[0m in \u001b[0;36m<module>\u001b[0;34m()\u001b[0m\n\u001b[1;32m     12\u001b[0m \u001b[0mxC0\u001b[0m \u001b[0;34m=\u001b[0m \u001b[0;34m[\u001b[0m\u001b[0;36m1.266\u001b[0m\u001b[0;34m,\u001b[0m \u001b[0;36m1.51\u001b[0m\u001b[0;34m]\u001b[0m\u001b[0;34m\u001b[0m\u001b[0m\n\u001b[1;32m     13\u001b[0m \u001b[0mxCf\u001b[0m \u001b[0;34m=\u001b[0m \u001b[0;34m[\u001b[0m\u001b[0;34m-\u001b[0m\u001b[0;36m1.234\u001b[0m\u001b[0;34m,\u001b[0m \u001b[0;36m1.51\u001b[0m\u001b[0;34m]\u001b[0m\u001b[0;34m\u001b[0m\u001b[0m\n\u001b[0;32m---> 14\u001b[0;31m \u001b[0mxp\u001b[0m \u001b[0;34m=\u001b[0m \u001b[0mnp\u001b[0m\u001b[0;34m.\u001b[0m\u001b[0mvstack\u001b[0m\u001b[0;34m(\u001b[0m\u001b[0;34m(\u001b[0m\u001b[0mnp\u001b[0m\u001b[0;34m.\u001b[0m\u001b[0mlinspace\u001b[0m\u001b[0;34m(\u001b[0m\u001b[0mxC0\u001b[0m\u001b[0;34m[\u001b[0m\u001b[0;36m0\u001b[0m\u001b[0;34m]\u001b[0m\u001b[0;34m,\u001b[0m \u001b[0mxCf\u001b[0m\u001b[0;34m[\u001b[0m\u001b[0;36m0\u001b[0m\u001b[0;34m]\u001b[0m\u001b[0;34m,\u001b[0m \u001b[0mNp\u001b[0m\u001b[0;34m)\u001b[0m\u001b[0;34m,\u001b[0m \u001b[0mnp\u001b[0m\u001b[0;34m.\u001b[0m\u001b[0mones\u001b[0m\u001b[0;34m(\u001b[0m\u001b[0mNp\u001b[0m\u001b[0;34m)\u001b[0m \u001b[0;34m*\u001b[0m \u001b[0mxC0\u001b[0m\u001b[0;34m[\u001b[0m\u001b[0;36m1\u001b[0m\u001b[0;34m]\u001b[0m\u001b[0;34m)\u001b[0m\u001b[0;34m)\u001b[0m\u001b[0;34m.\u001b[0m\u001b[0mT\u001b[0m\u001b[0;34m\u001b[0m\u001b[0m\n\u001b[0m\u001b[1;32m     15\u001b[0m \u001b[0mq_guess\u001b[0m \u001b[0;34m=\u001b[0m \u001b[0;34m[\u001b[0m\u001b[0;36m40.0\u001b[0m \u001b[0;34m/\u001b[0m \u001b[0;36m180.0\u001b[0m \u001b[0;34m*\u001b[0m \u001b[0mnp\u001b[0m\u001b[0;34m.\u001b[0m\u001b[0mpi\u001b[0m\u001b[0;34m,\u001b[0m \u001b[0;36m20.0\u001b[0m \u001b[0;34m/\u001b[0m \u001b[0;36m180.0\u001b[0m \u001b[0;34m*\u001b[0m \u001b[0mnp\u001b[0m\u001b[0;34m.\u001b[0m\u001b[0mpi\u001b[0m\u001b[0;34m]\u001b[0m\u001b[0;34m\u001b[0m\u001b[0m\n\u001b[1;32m     16\u001b[0m \u001b[0;34m\u001b[0m\u001b[0m\n",
      "\u001b[0;31mNameError\u001b[0m: name 'Np' is not defined"
     ]
    }
   ],
   "source": [
    "# define path to follow\n",
    "# Np = 8\n",
    "# xp = np.vstack((np.linspace(-1.5, 1.5, Np), np.ones(Np) * 1.0)).T\n",
    "\n",
    "# calulate inital configuration\n",
    "# q0_guess = np.array([np.pi / 2, np.pi / 4])\n",
    "# x0 = xp[0, :]\n",
    "# res = newton(x0, q0_guess)\n",
    "# q0 = res['q']\n",
    "\n",
    "# path from paper\n",
    "Np = 18\n",
    "xC0 = [1.266, 1.51]\n",
    "xCf = [-1.234, 1.51]\n",
    "xp = np.vstack((np.linspace(xC0[0], xCf[0], Np), np.ones(Np) * xC0[1])).T\n",
    "q_guess = [40.0 / 180.0 * np.pi, 20.0 / 180.0 * np.pi]\n",
    "\n",
    "# ik for first point\n",
    "sol = root(lambda q : xp[0, :] - fk(q), q_guess)\n",
    "q0 = sol['x']\n",
    "\n",
    "# ik for last point, needed for taylors algorithm\n",
    "sol = root(lambda q : xp[-1, :] - fk(q), q0)\n",
    "qN = sol['x']\n",
    "\n",
    "# plot initial configuration\n",
    "plt.figure()\n",
    "plt.axis([-2, 2, -0.5, 2])\n",
    "plt.plot(xp[:, 0], xp[:, 1], 'go')\n",
    "x2, x1 = fk(q0, all_links = True)\n",
    "plt.plot([0, x1[0], x2[0]], [0, x1[1], x2[1]], 'ko-')\n",
    "x2, x1 = fk(qN, all_links = True)\n",
    "plt.plot([0, x1[0], x2[0]], [0, x1[1], x2[1]], 'ko-')\n",
    "plt.show()"
   ]
  },
  {
   "cell_type": "markdown",
   "metadata": {},
   "source": [
    "## Inverse kinematics for every path point"
   ]
  },
  {
   "cell_type": "code",
   "execution_count": null,
   "metadata": {
    "collapsed": true
   },
   "outputs": [],
   "source": [
    "qp1 = exact_ik(xp, q0)\n",
    "#print qp1"
   ]
  },
  {
   "cell_type": "code",
   "execution_count": null,
   "metadata": {
    "scrolled": true
   },
   "outputs": [],
   "source": [
    "# plot planned motion\n",
    "plt.figure()\n",
    "plt.axis([-2, 2, 0.0, 2.0])\n",
    "\n",
    "# plot solution configurations\n",
    "for i in range(Np):\n",
    "    x2, x1 = fk(qp1[i], all_links = True)\n",
    "    plt.plot([0, x1[0], x2[0]], [0, x1[1], x2[1]], 'ko-')\n",
    "\n",
    "# given path\n",
    "plt.plot(xp[:, 0], xp[:, 1], 'go')\n",
    "plt.show()"
   ]
  },
  {
   "cell_type": "markdown",
   "metadata": {},
   "source": [
    "## Linear interpolation in join space (Taylor's algorithm)"
   ]
  },
  {
   "cell_type": "code",
   "execution_count": null,
   "metadata": {},
   "outputs": [],
   "source": [
    "print xp"
   ]
  },
  {
   "cell_type": "code",
   "execution_count": null,
   "metadata": {},
   "outputs": [],
   "source": [
    "# In this case we don't use the path, only the first and the last point\n",
    "# We do need the ik solution for the last point (qN)\n",
    "d = 0.1 # acceptable deviation from path\n",
    "qp2, xp2 = taylor_interpolation(xp[0], xp[-1], q0, qN, d)\n",
    "#print qp2"
   ]
  },
  {
   "cell_type": "code",
   "execution_count": null,
   "metadata": {},
   "outputs": [],
   "source": [
    "# plot planned motion\n",
    "plt.figure()\n",
    "plt.axis([-2, 2, 0.0, 2.0])\n",
    "\n",
    "# plot solution configurations\n",
    "for i in range(len(qp2)):\n",
    "    x2, x1 = fk(qp2[i], all_links = True)\n",
    "    plt.plot([0, x1[0], x2[0]], [0, x1[1], x2[1]], 'ko-')\n",
    "\n",
    "# given path\n",
    "plt.plot(xp[:, 0], xp[:, 1], 'g--')\n",
    "\n",
    "# allowed deviation\n",
    "plt.plot(xp[:, 0], xp[:, 1] - d, 'r-.')\n",
    "plt.plot(xp[:, 0], xp[:, 1] + d, 'r-.')\n",
    "#plt.show()"
   ]
  },
  {
   "cell_type": "markdown",
   "metadata": {},
   "source": [
    "## Local optimization of joint movement"
   ]
  },
  {
   "cell_type": "code",
   "execution_count": null,
   "metadata": {
    "collapsed": true
   },
   "outputs": [],
   "source": [
    "d = 0.1\n",
    "qp3, xp3 = local_optimization(xp, q0, d)"
   ]
  },
  {
   "cell_type": "code",
   "execution_count": null,
   "metadata": {},
   "outputs": [],
   "source": [
    "# plot planned motion\n",
    "plt.figure()\n",
    "plt.axis([-2, 2, 0.0, 2.0])\n",
    "\n",
    "# plot solution configurations\n",
    "for i in range(len(qp3)):\n",
    "    x2, x1 = fk(qp3[i], all_links = True)\n",
    "    plt.plot([0, x1[0], x2[0]], [0, x1[1], x2[1]], 'ko-')\n",
    "\n",
    "# given path\n",
    "plt.plot(xp[:, 0], xp[:, 1], 'g--')\n",
    "\n",
    "# allowed deviation\n",
    "plt.plot(xp[:, 0], xp[:, 1] - d, 'r-.')\n",
    "plt.plot(xp[:, 0], xp[:, 1] + d, 'r-.')\n",
    "plt.show()"
   ]
  },
  {
   "cell_type": "markdown",
   "metadata": {},
   "source": [
    "## Local trajectory shortening in joint space"
   ]
  },
  {
   "cell_type": "code",
   "execution_count": null,
   "metadata": {},
   "outputs": [],
   "source": [
    "qp4, xp4 = trajectory_shortening(xp, qp1, d, angle_max = 175.0 / 180.0 * np.pi)"
   ]
  },
  {
   "cell_type": "code",
   "execution_count": null,
   "metadata": {},
   "outputs": [],
   "source": [
    "# plot planned motion\n",
    "plt.figure()\n",
    "plt.axis([-2, 2, 0.0, 2.0])\n",
    "\n",
    "# plot solution configurations\n",
    "for i in range(len(qp4)):\n",
    "    x2, x1 = fk(qp4[i], all_links = True)\n",
    "    plt.plot([0, x1[0], x2[0]], [0, x1[1], x2[1]], 'ko-')\n",
    "\n",
    "# given path\n",
    "plt.plot(xp[:, 0], xp[:, 1], 'g--')\n",
    "\n",
    "# allowed deviation\n",
    "plt.plot(xp[:, 0], xp[:, 1] - d, 'r-.')\n",
    "plt.plot(xp[:, 0], xp[:, 1] + d, 'r-.')\n",
    "plt.show()"
   ]
  },
  {
   "cell_type": "code",
   "execution_count": null,
   "metadata": {
    "collapsed": true
   },
   "outputs": [],
   "source": []
  }
 ],
 "metadata": {
  "kernelspec": {
   "display_name": "Python 2",
   "language": "python",
   "name": "python2"
  },
  "language_info": {
   "codemirror_mode": {
    "name": "ipython",
    "version": 2
   },
   "file_extension": ".py",
   "mimetype": "text/x-python",
   "name": "python",
   "nbconvert_exporter": "python",
   "pygments_lexer": "ipython2",
   "version": "2.7.13"
  }
 },
 "nbformat": 4,
 "nbformat_minor": 2
}
