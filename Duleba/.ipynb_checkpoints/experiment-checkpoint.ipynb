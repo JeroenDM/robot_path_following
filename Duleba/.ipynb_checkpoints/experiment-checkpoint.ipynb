{
 "cells": [
  {
   "cell_type": "code",
   "execution_count": 1,
   "metadata": {
    "collapsed": true
   },
   "outputs": [],
   "source": [
    "import numpy as np\n",
    "import matplotlib.pyplot as plt\n",
    "from util import *\n",
    "from scipy.optimize import root\n",
    "PI = np.pi"
   ]
  },
  {
   "cell_type": "code",
   "execution_count": 2,
   "metadata": {
    "collapsed": true
   },
   "outputs": [],
   "source": [
    "# define path to follow\n",
    "Np = 8\n",
    "xp = np.vstack((np.linspace(-1.5, 1.5, Np),\n",
    "                np.ones(Np) * 1.0\n",
    "              )).T"
   ]
  },
  {
   "cell_type": "code",
   "execution_count": 3,
   "metadata": {},
   "outputs": [
    {
     "name": "stdout",
     "output_type": "stream",
     "text": [
      "[-1.5  1. ]\n",
      "{'q': array([ 2.10575748,  0.895666  ]), 'conv': True}\n",
      "[ 2.10575748  0.895666  ]\n"
     ]
    }
   ],
   "source": [
    "# calulate inital configuration\n",
    "q0_guess = np.array([PI / 2, PI / 4])\n",
    "x0 = xp[0, :]\n",
    "print x0\n",
    "res = newton(x0, q0_guess)\n",
    "print res\n",
    "q0 = res['q']\n",
    "x2, x1 = fk(q0, all_links = True)\n",
    "\n",
    "# rescale angles\n",
    "q0 = q0 % (2 * np.pi)\n",
    "print q0"
   ]
  },
  {
   "cell_type": "code",
   "execution_count": 4,
   "metadata": {},
   "outputs": [
    {
     "data": {
      "image/png": "[encoded data removed]",
      "text/plain": [
       "<matplotlib.figure.Figure at 0x7f6c3d5ad950>"
      ]
     },
     "metadata": {},
     "output_type": "display_data"
    }
   ],
   "source": [
    "# plot initial configuration\n",
    "plt.figure()\n",
    "plt.axis([-2, 2, -0.5, 2])\n",
    "plt.plot(xp[:, 0], xp[:, 1], 'go')\n",
    "plt.plot([0, x1[0], x2[0]], [0, x1[1], x2[1]], 'ko-')\n",
    "plt.show()"
   ]
  },
  {
   "cell_type": "markdown",
   "metadata": {},
   "source": [
    "## Solve ik using simple newton method"
   ]
  },
  {
   "cell_type": "code",
   "execution_count": 5,
   "metadata": {},
   "outputs": [
    {
     "name": "stdout",
     "output_type": "stream",
     "text": [
      "newton method did not converge in step: 3\n",
      "newton method did not converge in step: 4\n"
     ]
    }
   ],
   "source": [
    "# calculate configureation for the other path points\n",
    "from numpy.linalg import cond\n",
    "qsol = np.zeros((Np, 2))\n",
    "qsol[0] = q0\n",
    "for i in range(1, Np):\n",
    "    res = newton(xp[i], qsol[i-1], alpha = 0.1)\n",
    "    if res['conv']:\n",
    "        qsol[i] = res['q']\n",
    "    else:\n",
    "        print \"newton method did not converge in step: \" + str(i)\n",
    "        # Jk = J(qsol[i])\n",
    "        # print \"Jacobian condition number: \" + str(cond(Jk))\n",
    "        \n",
    "return qsol\n",
    "# print qsol"
   ]
  },
  {
   "cell_type": "code",
   "execution_count": 6,
   "metadata": {
    "collapsed": true
   },
   "outputs": [],
   "source": [
    "# plot planned motion\n",
    "plt.figure()\n",
    "plt.axis([-2, 2, 0.0, 1.5])\n",
    "plt.plot(xp[:, 0], xp[:, 1], 'go')\n",
    "for i in range(Np):\n",
    "    x2, x1 = fk(qsol[i], all_links = True)\n",
    "    plt.plot([0, x1[0], x2[0]], [0, x1[1], x2[1]], 'o-')\n",
    "# plt.show()"
   ]
  },
  {
   "cell_type": "markdown",
   "metadata": {
    "collapsed": true
   },
   "source": [
    "## Solve ik using build in root finding algorithm"
   ]
  },
  {
   "cell_type": "code",
   "execution_count": 7,
   "metadata": {},
   "outputs": [
    {
     "name": "stdout",
     "output_type": "stream",
     "text": [
      "[[ 2.10575748  0.895666  ]\n",
      " [ 1.64228905  1.49674909]\n",
      " [ 1.20786201  1.8685436 ]\n",
      " [ 0.74784918  2.06808096]\n",
      " [ 0.32566251  2.06808096]\n",
      " [ 0.06518705  1.8685436 ]\n",
      " [ 0.00255452  1.49674909]\n",
      " [ 0.14017021  0.89566479]]\n"
     ]
    }
   ],
   "source": [
    "# calculate configureation for the other path points\n",
    "from numpy.linalg import cond\n",
    "qsol = np.zeros((Np, 2))\n",
    "qsol[0] = q0\n",
    "for i in range(1, Np):\n",
    "    res = root(lambda q : xp[i] - fk(q), qsol[i-1])\n",
    "    if res['success']:\n",
    "        qsol[i] = res['x']\n",
    "    else:\n",
    "        print \"newton method did not converge in step: \" + str(i)\n",
    "        # Jk = J(qsol[i])\n",
    "        # print \"Jacobian condition number: \" + str(cond(Jk))\n",
    "        \n",
    "print qsol"
   ]
  },
  {
   "cell_type": "code",
   "execution_count": 9,
   "metadata": {},
   "outputs": [
    {
     "data": {
      "image/png": "[encoded data removed]",
      "text/plain": [
       "<matplotlib.figure.Figure at 0x7f6c3b50ec50>"
      ]
     },
     "metadata": {},
     "output_type": "display_data"
    }
   ],
   "source": [
    "# plot planned motion\n",
    "plt.figure()\n",
    "plt.axis([-2, 2, 0.0, 1.5])\n",
    "plt.plot(xp[:, 0], xp[:, 1], 'go')\n",
    "for i in range(Np):\n",
    "    x2, x1 = fk(qsol[i], all_links = True)\n",
    "    plt.plot([0, x1[0], x2[0]], [0, x1[1], x2[1]], 'ko-')\n",
    "plt.show()"
   ]
  },
  {
   "cell_type": "code",
   "execution_count": null,
   "metadata": {
    "collapsed": true
   },
   "outputs": [],
   "source": []
  },
  {
   "cell_type": "code",
   "execution_count": null,
   "metadata": {
    "collapsed": true
   },
   "outputs": [],
   "source": []
  }
 ],
 "metadata": {
  "kernelspec": {
   "display_name": "Python 2",
   "language": "python",
   "name": "python2"
  },
  "language_info": {
   "codemirror_mode": {
    "name": "ipython",
    "version": 2
   },
   "file_extension": ".py",
   "mimetype": "text/x-python",
   "name": "python",
   "nbconvert_exporter": "python",
   "pygments_lexer": "ipython2",
   "version": "2.7.13"
  }
 },
 "nbformat": 4,
 "nbformat_minor": 2
}
